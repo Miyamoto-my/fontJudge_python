{
  "nbformat": 4,
  "nbformat_minor": 0,
  "metadata": {
    "colab": {
      "name": "fontJudge.ipynb",
      "provenance": [],
      "collapsed_sections": [
        "HmAQTObHnxWM"
      ],
      "include_colab_link": true
    },
    "kernelspec": {
      "name": "python3",
      "display_name": "Python 3"
    },
    "language_info": {
      "name": "python"
    }
  },
  "cells": [
    {
      "cell_type": "markdown",
      "metadata": {
        "id": "view-in-github",
        "colab_type": "text"
      },
      "source": [
        "<a href=\"https://colab.research.google.com/github/Miyamoto-my/fontJudge_python/blob/main/fontJudge.ipynb\" target=\"_parent\"><img src=\"https://colab.research.google.com/assets/colab-badge.svg\" alt=\"Open In Colab\"/></a>"
      ]
    },
    {
      "cell_type": "markdown",
      "source": [
        "# 前処理\n",
        "\n",
        "画像の種類\n",
        "\n",
        "* ゴシック体\n",
        "* 教科書体\n",
        "* 明朝体\n",
        "* 行書体\n",
        "* 丸文字"
      ],
      "metadata": {
        "id": "Sauub6b0_T0t"
      }
    },
    {
      "cell_type": "markdown",
      "source": [
        "## 画像を正方形にする"
      ],
      "metadata": {
        "id": "eVZGKY0E_ZKN"
      }
    },
    {
      "cell_type": "code",
      "source": [
        "import cv2\n",
        "import numpy as np\n",
        "\n",
        "def createImg(img_contraction):\n",
        "  tmp = img_contraction[:, :]\n",
        "  height, width = img_contraction.shape[:2]\n",
        "\n",
        "  ## 長編を正方形の一片の長さにする\n",
        "  if(height > width):\n",
        "    size = height\n",
        "    limit = width\n",
        "  else:\n",
        "    size = width\n",
        "    limit = height\n",
        "\n",
        "  start = int((size - limit) / 2)\n",
        "  fin = int((size + limit) / 2)\n",
        "\n",
        "  ## 新しい正方形を作成\n",
        "  new_img = cv2.resize(np.full((1, 1, 3), 255, np.uint8), (size, size))\n",
        "\n",
        "  ## 新しく作った正方形の中心に画像（長方形）を貼り付けする\n",
        "  if(size == height):\n",
        "    new_img[:, start:fin] = tmp\n",
        "  else:\n",
        "    new_img[start:fin, :] = tmp\n",
        "\n",
        "  return new_img"
      ],
      "metadata": {
        "id": "AuNDPGpS_U3g"
      },
      "execution_count": null,
      "outputs": []
    },
    {
      "cell_type": "code",
      "source": [
        "import os\n",
        "import cv2\n",
        "\n",
        "file_path = \"/content/drive/MyDrive/data/img_original\"          ## 画像が格納されたファイル\n",
        "img_path_array = []\n",
        "\n",
        "files = os.listdir(file_path)\n",
        "\n",
        "for file in files:\n",
        "  img = cv2.imread(file_path + \"/\" + file)\n",
        "  out_path = \"/content/drive/MyDrive/data/img_square/\" + file   ## 画像の保存先のファイル\n",
        "  cv2.imwrite(out_path, out_img)"
      ],
      "metadata": {
        "id": "0w5GSzkv_foq"
      },
      "execution_count": null,
      "outputs": []
    },
    {
      "cell_type": "markdown",
      "source": [
        "## 画像のサイズ統一と色反転"
      ],
      "metadata": {
        "id": "St9ZUkSrCC_m"
      }
    },
    {
      "cell_type": "code",
      "source": [
        "import os\n",
        "from PIL import Image, ImageOps\n",
        "\n",
        "file_path = \"/content/drive/MyDrive/data/img_square\"      ## インポートする画像が格納されたファイルパス\n",
        "file_out_path = \"/content/drive/MyDrive/data/img_resize\"  ## 画像の保存先のファイルパス\n",
        "img_path_array = []\n",
        "\n",
        "files = os.listdir(file_path)\n",
        "\n",
        "for file in files:\n",
        "  img_path = file_path + \"/\" + file\n",
        "  out_path = file_out_path + \"/\" + file\n",
        "\n",
        "  img = Image.open(img_path)      ## 画像を開ける\n",
        "  out_img = ImageOps.invert(img)  ## 画像の色を反転\n",
        "  out_img = out_img.resize((100, 100), Image.LANCZOS) ## 画像サイズを統一\n",
        "  out_img.save(out_path)          ## 画像を保存"
      ],
      "metadata": {
        "id": "iCQim-sRCK-2"
      },
      "execution_count": null,
      "outputs": []
    },
    {
      "cell_type": "markdown",
      "source": [
        "## 余白追加"
      ],
      "metadata": {
        "id": "lSJZjR5AnJft"
      }
    },
    {
      "cell_type": "code",
      "source": [
        "import os\n",
        "import cv2\n",
        "\n",
        "file_path = \"/content/drive/MyDrive/data/img_resize\"        ## インポートする画像が格納されたファイルパス\n",
        "file_out_path = \"/content/drive/MyDrive/data/img_addMargin\" ## 画像の保存先のファイルパス\n",
        "img_path_array = []\n",
        "\n",
        "files = os.listdir(file_path)\n",
        "\n",
        "for file in files:\n",
        "  img_path = file_path + \"/\" + file\n",
        "  out_path = file_out_path + \"/\" + file \n",
        "  \n",
        "  img = cv2.imread(img_path)\n",
        "  out_img = cv2.copyMakeBorder(img, 25, 25, 25, 25, cv2.BORDER_CONSTANT, value=[0,0,0]) ## 余白の追加\n",
        "  \n",
        "  cv2.imwrite(out_path, out_img)"
      ],
      "metadata": {
        "id": "i6QV6ERlm8Rz"
      },
      "execution_count": null,
      "outputs": []
    },
    {
      "cell_type": "markdown",
      "source": [
        "# 学習データの作成\n",
        "\n",
        "変換表\n",
        "\n",
        "* ゴシック体「あ」：0 ゴシック体「い」：1 ゴシック体「う」：2 ゴシック体「え」：3 ゴシック体「お」：4\n",
        "* 教科書体　「あ」：5 教科書体　「い」：6 教科書体　「う」：7 教科書体　「え」：8 教科書体　「お」：9\n",
        "* 明朝体　　「あ」：10 明朝体　　「い」：11 明朝体　　「う」：12 明朝体　　「え」：13 明朝体　　「お」：14\n",
        "* 行書体　　「あ」：15 行書体　　「い」：16 行書体　　「う」：17 行書体　　「え」：18 行書体　　「お」：19\n",
        "* 丸文字体　「あ」：20 丸文字体　「い」：21 丸文字体　「う」：22 丸文字体　「え」：23 丸文字体　「お」：24\n",
        "\n"
      ],
      "metadata": {
        "id": "HmAQTObHnxWM"
      }
    },
    {
      "cell_type": "code",
      "source": [
        "def label_config(name):\n",
        "  \"\"\" labelを設定する\n",
        "  Parameters:\n",
        "  ----------\n",
        "  name : string\n",
        "    画像の名前\n",
        "  Return:\n",
        "  ----------\n",
        "  label : int\n",
        "  \"\"\"\n",
        "\n",
        "  label = 0       ## 画像の答え\n",
        "  name = name.replace(\".jpg\", \"\")\n",
        "\n",
        "  if name == 'Gothic(1)':\n",
        "    label = 0\n",
        "  elif name == 'Gothic(2)':\n",
        "    label = 1\n",
        "  elif name == 'Gothic(3)':\n",
        "    label = 2\n",
        "  elif name == 'Gothic(4)':\n",
        "    label = 3\n",
        "  elif name == 'Gothic(5)':\n",
        "    label = 4\n",
        "  elif name == 'Kyoukasyo(1)':\n",
        "    label = 5\n",
        "  elif name == 'Kyoukasyo(2)':\n",
        "    label = 6\n",
        "  elif name == 'Kyoukasyo(3)':\n",
        "    label = 7\n",
        "  elif name == 'Kyoukasyo(4)':\n",
        "    label = 8\n",
        "  elif name == 'Kyoukasyo(5)':\n",
        "    label = 9\n",
        "  elif name == 'Minch(1)':\n",
        "    label = 10\n",
        "  elif name == 'Minch(2)':\n",
        "    label = 11\n",
        "  elif name == 'Minch(3)':\n",
        "    label = 12\n",
        "  elif name == 'Minch(4)':\n",
        "    label = 13\n",
        "  elif name == 'Minch(5)':\n",
        "    label = 14\n",
        "  elif name == 'gyousyo(1)':\n",
        "    label = 15\n",
        "  elif name == 'gyousyo(2)':\n",
        "    label = 16\n",
        "  elif name == 'gyousyo(3)':\n",
        "    label = 17\n",
        "  elif name == 'gyousyo(4)':\n",
        "    label = 18\n",
        "  elif name == 'gyousyo(5)':\n",
        "    label = 19\n",
        "  elif name == 'maru(1)':\n",
        "    label = 20\n",
        "  elif name == 'maru(2)':\n",
        "    label = 21\n",
        "  elif name == 'maru(3)':\n",
        "    label = 22\n",
        "  elif name == 'maru(4)':\n",
        "    label = 23\n",
        "  elif name == 'maru(5)':\n",
        "    label = 24\n",
        "\n",
        "  return label"
      ],
      "metadata": {
        "id": "YTbHKHv0qyL0"
      },
      "execution_count": null,
      "outputs": []
    },
    {
      "cell_type": "code",
      "source": [
        "import csv\n",
        "import os\n",
        "from PIL import Image\n",
        "import numpy as np\n",
        "\n",
        "file_path = \"/content/drive/MyDrive/data/img_addMargin\" ## 画像が格納されたファイルパス\n",
        "train_path = \"/content/drive/MyDrive/data/train.csv\"    ## 学習データの保存先のファイルパス\n",
        "\n",
        "files = os.listdir(file_path)\n",
        "\n",
        "with open(train_path, \"w\", encoding=\"utf-8\") as f:\n",
        "  writer = csv.writer(f)\n",
        "\n",
        "  for file in files:\n",
        "    img_path = file_path + \"/\" + file\n",
        "\n",
        "    img = Image.open(img_path)                ## 画像を開ける\n",
        "    img = img.resize((80, 80), Image.LANCZOS) ## 画像サイズを「80 x 80」に変更\n",
        "\n",
        "    label_num = label_config(file)            ## label(画像の答え)\n",
        "\n",
        "    for i in range(-5, 6):                    ## 画像を5度ずつ回転させる\n",
        "      out_img = img.rotate((i * 5), resample=Image.BICUBIC)\n",
        "\n",
        "      array = np.array(out_img, dtype='uint8')\n",
        "      array = np.ravel(array)                 ## 数字を一列にする (3次元配列を1次元配列にする)\n",
        "      array = array[::3]                      ## 白黒画像なのでRGB値の最初の値だけ保存する\n",
        "      array = np.append(label_num, array)     ## 配列の1つ目の要素に画像の答えを、2つ目以降に画像のRGB値を格納する\n",
        "\n",
        "      writer.writerow(array)                  ## csvに書き込み"
      ],
      "metadata": {
        "id": "coq2QHuZn1QI"
      },
      "execution_count": null,
      "outputs": []
    },
    {
      "cell_type": "markdown",
      "source": [
        "# 学習モデルの作成"
      ],
      "metadata": {
        "id": "Psx70sbKuBek"
      }
    },
    {
      "cell_type": "code",
      "source": [
        "import numpy as np\n",
        "import csv\n",
        "\n",
        "train_path = \"/content/drive/MyDrive/data/train.csv\"  ## 学習データのパス\n",
        "\n",
        "with open(train_path, \"r\", encoding=\"utf-8\") as file: ## csv形式のファイルを読み込む\n",
        "  csvreader = csv.reader(file)\n",
        "  mnist_list = []\n",
        "  for row in csvreader:\n",
        "    mnist_list.append(row)\n",
        "\n",
        "array = np.array(mnist_list)\n",
        "\n",
        "## 学習データのデータ\n",
        "data = np.array(array[:,1:], dtype='uint8')\n",
        "data = data.reshape(275, 80, 80)      ## CSVで保存する際、一次元配列に変換していたので、元の三次元配列へと戻す\n",
        "\n",
        "## 学習データのラベル\n",
        "label = np.array(array[:,:1], dtype='uint8')\n",
        "label = label.reshape(275)            ## CSVで保存する際、一次元配列に変換していたので、元の三次元配列へと戻す"
      ],
      "metadata": {
        "id": "8Teb6i-MsvpA"
      },
      "execution_count": null,
      "outputs": []
    },
    {
      "cell_type": "code",
      "source": [
        "print(array, len(array), len(array[0]))"
      ],
      "metadata": {
        "id": "mjLlqKAUM4Kb",
        "outputId": "85682951-92f3-4385-835c-d9c2525bddc7",
        "colab": {
          "base_uri": "https://localhost:8080/"
        }
      },
      "execution_count": null,
      "outputs": [
        {
          "output_type": "stream",
          "name": "stdout",
          "text": [
            "[['5' '0' '0' ... '0' '0' '0']\n",
            " ['5' '0' '0' ... '0' '0' '0']\n",
            " ['5' '0' '0' ... '0' '0' '0']\n",
            " ...\n",
            " ['9' '0' '0' ... '0' '0' '0']\n",
            " ['9' '0' '0' ... '0' '0' '0']\n",
            " ['9' '0' '0' ... '0' '0' '0']] 275 6401\n"
          ]
        }
      ]
    },
    {
      "cell_type": "code",
      "source": [
        "import tensorflow as tf     ## 深層学習を行うためのライブラリをインポートします\n",
        "\n",
        "model = tf.keras.Sequential([\n",
        "    tf.keras.layers.Flatten(input_shape=(80, 80)),  ## 入力層\n",
        "    tf.keras.layers.Dropout(0.25),                  ## ドロップアウト\n",
        "    tf.keras.layers.Dense(400, activation='relu'),  ## 隠れ層 (\"400\"となっているのがニューロン数、\"activation\"で活性化関数を指定)\n",
        "    tf.keras.layers.Dropout(0.25),                  ## ドロップアウト\n",
        "    tf.keras.layers.Dense(25, activation=\"softmax\") ## 出力層\n",
        "])\n",
        "\n",
        "model.compile(optimizer='adam',\n",
        "    loss=tf.keras.losses.SparseCategoricalCrossentropy(from_logits=True),\n",
        "    metrics=['accuracy'])\n",
        "## optimizer...最適化, loss...損失関数(交差エントロピー), metrics...尺度(精度),\n",
        "\n",
        "print(model.summary())                              ## モデルの要約を出力"
      ],
      "metadata": {
        "id": "D0tPkp5DuvOp"
      },
      "execution_count": null,
      "outputs": []
    },
    {
      "cell_type": "code",
      "source": [
        "model.fit(data, label, epochs=3)\n",
        "## data...学習データのデータ(RGB値), label...学習データの答え, epochs...学習を繰り返す回数"
      ],
      "metadata": {
        "colab": {
          "base_uri": "https://localhost:8080/"
        },
        "id": "eC5flMgbvZ52",
        "outputId": "9bfa2df4-9bad-4287-85bb-21ea4c9087f0"
      },
      "execution_count": null,
      "outputs": [
        {
          "output_type": "stream",
          "name": "stdout",
          "text": [
            "Epoch 1/3\n"
          ]
        },
        {
          "output_type": "stream",
          "name": "stderr",
          "text": [
            "/usr/local/lib/python3.7/dist-packages/tensorflow/python/util/dispatch.py:1082: UserWarning: \"`sparse_categorical_crossentropy` received `from_logits=True`, but the `output` argument was produced by a sigmoid or softmax activation and thus does not represent logits. Was this intended?\"\n",
            "  return dispatch_target(*args, **kwargs)\n"
          ]
        },
        {
          "output_type": "stream",
          "name": "stdout",
          "text": [
            "9/9 [==============================] - 1s 23ms/step - loss: 196.4926 - accuracy: 0.2000\n",
            "Epoch 2/3\n",
            "9/9 [==============================] - 0s 21ms/step - loss: 35.5903 - accuracy: 0.7345\n",
            "Epoch 3/3\n",
            "9/9 [==============================] - 0s 21ms/step - loss: 9.6726 - accuracy: 0.9091\n"
          ]
        },
        {
          "output_type": "execute_result",
          "data": {
            "text/plain": [
              "<keras.callbacks.History at 0x7fdfa0f5ead0>"
            ]
          },
          "metadata": {},
          "execution_count": 3
        }
      ]
    },
    {
      "cell_type": "markdown",
      "source": [
        "# 手書き文字を作成する\n",
        "\n",
        "http://fontjudge.html.xdomain.jp/"
      ],
      "metadata": {
        "id": "Ug8NKu9vwqPy"
      }
    },
    {
      "cell_type": "code",
      "source": [
        "## Google Colaboratory に手書き文字のファイルをアップロードする\n",
        "from google.colab import files\n",
        "\n",
        "uploaded = files.upload()\n",
        "\n",
        "for fn in uploaded.keys():\n",
        "  print('User uploaded file \"{name}\" with length {length} bytes'.format(name=fn, length=len(uploaded[fn])))"
      ],
      "metadata": {
        "id": "sP7hOPQVviJX"
      },
      "execution_count": null,
      "outputs": []
    },
    {
      "cell_type": "code",
      "source": [
        "import cv2\n",
        "import numpy as np\n",
        "\n",
        "img_path = \"/content/canvas.png\"  ## アップロードした画像ファイルパス\n",
        "img = cv2.imread(img_path)\n",
        "\n",
        "img = cv2.bitwise_not(img)        ## 画像の白黒反転\n",
        "img = cv2.resize(img, dsize=(400, 80))\n",
        "img = img.ravel()                 ## 平坦化\n",
        "img = img[2::3]                   ## 2から始めることで、黄色（枠の部分）を消す\n",
        "img = img.reshape(80, 400)        ## reshapeで一次元配列を二次元配列にする\n",
        "\n",
        "img_array = []\n",
        "\n",
        "for i in range(5):                ## 文字ごとに切り分ける\n",
        "  start_num = i * 80\n",
        "  buf_array = []\n",
        "  for j in range(80):\n",
        "    buf_array.append(img[j][start_num:(start_num + 80)])\n",
        "\n",
        "  img_array.append(buf_array)\n",
        "\n",
        "img_array = np.array(img_array)"
      ],
      "metadata": {
        "id": "HPcslo0-xYw6"
      },
      "execution_count": null,
      "outputs": []
    },
    {
      "cell_type": "markdown",
      "source": [
        "# 予測・判定"
      ],
      "metadata": {
        "id": "CEJy0b5zwhhz"
      }
    },
    {
      "cell_type": "code",
      "source": [
        "## ラベルと画像の名前の変換\n",
        "class_names = [\n",
        "  'gothic_a', 'gothic_i', 'gothic_u', 'gothic_e', 'gothic_o', \n",
        "  'gyousyo_a', 'gyousyo_i', 'gyousyo_u', 'gyousyo_e', 'gyousyo_o', \n",
        "  'kyoukasyo_a', 'kyoukasyo_i', 'kyoukasyo_u', 'kyoukasyo_e', 'kyoukasyo_o', \n",
        "  'maru_a', 'maru_i', 'maru_u', 'maru_e', 'maru_o',\n",
        "  'minch_a', 'minch_i', 'minch_u', 'minch_e', 'minch_o'\n",
        "]\n",
        "\n",
        "def plot_img(i, predictions_array, img_array):\n",
        "  img = img_array[i]\n",
        "  plt.grid(False)\n",
        "  plt.xticks([])\n",
        "  plt.yticks([])\n",
        "\n",
        "  plt.imshow(img, cmap=plt.cm.binary)\n",
        "\n",
        "  predicted_label = np.argmax(predictions_array)\n",
        "\n",
        "  plt.xlabel(\"{} {:2.0f}%\".format(class_names[predicted_label],100*np.max(predictions_array)), color='blue')"
      ],
      "metadata": {
        "id": "EUY8uprd0Cjr"
      },
      "execution_count": null,
      "outputs": []
    },
    {
      "cell_type": "code",
      "source": [
        "import matplotlib.pyplot as plt       ## 描写するライブラリ\n",
        "\n",
        "predict = model.predict(img_array)    ## 手書き文字の画像をモデルを用いて予測・判定させる\n",
        "for i in range(5):                    ## 画像を1つずつ読み込む\n",
        "  print(\"-------------------- 判定結果 --------------------\\n\")\n",
        "  print(\"〝\" + class_names[np.argmax(predict[i])] + \"〟と判定しました。\\n\")\n",
        "\n",
        "  plt.figure(figsize=(2,1))\n",
        "  plt.subplot(1,2,1)\n",
        "  plot_img(i, predict[i], img_array)\n",
        "  plt.show()"
      ],
      "metadata": {
        "colab": {
          "base_uri": "https://localhost:8080/",
          "height": 775
        },
        "id": "pnYtUOa-zF2Q",
        "outputId": "618359d1-7072-4916-dad7-ffdc8fe663c6"
      },
      "execution_count": null,
      "outputs": [
        {
          "output_type": "stream",
          "name": "stdout",
          "text": [
            "-------------------- 判定結果 --------------------\n",
            "\n",
            "〝minch_e〟と判定しました。\n",
            "\n"
          ]
        },
        {
          "output_type": "display_data",
          "data": {
            "image/png": "[encoded data removed]",
            "text/plain": [
              "<Figure size 144x72 with 1 Axes>"
            ]
          },
          "metadata": {}
        },
        {
          "output_type": "stream",
          "name": "stdout",
          "text": [
            "-------------------- 判定結果 --------------------\n",
            "\n",
            "〝kyoukasyo_i〟と判定しました。\n",
            "\n"
          ]
        },
        {
          "output_type": "display_data",
          "data": {
            "image/png": "[encoded data removed]",
            "text/plain": [
              "<Figure size 144x72 with 1 Axes>"
            ]
          },
          "metadata": {}
        },
        {
          "output_type": "stream",
          "name": "stdout",
          "text": [
            "-------------------- 判定結果 --------------------\n",
            "\n",
            "〝kyoukasyo_u〟と判定しました。\n",
            "\n"
          ]
        },
        {
          "output_type": "display_data",
          "data": {
            "image/png": "[encoded data removed]",
            "text/plain": [
              "<Figure size 144x72 with 1 Axes>"
            ]
          },
          "metadata": {}
        },
        {
          "output_type": "stream",
          "name": "stdout",
          "text": [
            "-------------------- 判定結果 --------------------\n",
            "\n",
            "〝minch_e〟と判定しました。\n",
            "\n"
          ]
        },
        {
          "output_type": "display_data",
          "data": {
            "image/png": "[encoded data removed]",
            "text/plain": [
              "<Figure size 144x72 with 1 Axes>"
            ]
          },
          "metadata": {}
        },
        {
          "output_type": "stream",
          "name": "stdout",
          "text": [
            "-------------------- 判定結果 --------------------\n",
            "\n",
            "〝maru_o〟と判定しました。\n",
            "\n"
          ]
        },
        {
          "output_type": "display_data",
          "data": {
            "image/png": "[encoded data removed]",
            "text/plain": [
              "<Figure size 144x72 with 1 Axes>"
            ]
          },
          "metadata": {}
        }
      ]
    }
  ]
}